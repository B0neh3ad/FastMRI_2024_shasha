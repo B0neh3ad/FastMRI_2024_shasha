{
 "cells": [
  {
   "cell_type": "markdown",
   "source": [
    "## Fetch data directory path"
   ],
   "metadata": {
    "collapsed": false
   },
   "id": "d76dcfcbf438aab3"
  },
  {
   "cell_type": "code",
   "outputs": [],
   "source": [
    "import os\n",
    "from dotenv import load_dotenv\n",
    "\n",
    "load_dotenv()\n",
    "data_dir_path = os.environ['DATA_DIR_PATH']\n",
    "result_dir_path = os.environ['RESULT_DIR_PATH']"
   ],
   "metadata": {
    "collapsed": false
   },
   "id": "5099e04f334ee04d",
   "execution_count": null
  },
  {
   "cell_type": "markdown",
   "source": [
    "## Data preview"
   ],
   "metadata": {
    "collapsed": false
   },
   "id": "f199a28368827e73"
  },
  {
   "cell_type": "code",
   "execution_count": null,
   "id": "initial_id",
   "metadata": {
    "collapsed": true
   },
   "outputs": [],
   "source": [
    "import h5py\n",
    "import numpy as np\n",
    "from matplotlib import pyplot as plt, gridspec"
   ]
  },
  {
   "cell_type": "code",
   "outputs": [],
   "source": [
    "def show_kspace_slice(kspace_path, slice_idx=0, coil_idxs=[0, 5, 10], cmap=None):\n",
    "    # convert kspace slice to real image\n",
    "    hf = h5py.File(kspace_path)\n",
    "    kspace_slice = hf['kspace'][slice_idx]\n",
    "    kspace_slice = np.log(np.abs(kspace_slice) + 1e-9)\n",
    "    \n",
    "    kspace_title = kspace_path.split('/')[-1]\n",
    "    \n",
    "    plt.figure()\n",
    "    plt.suptitle(f'{kspace_title} - slice {slice_idx}')\n",
    "    for i, coil_idx in enumerate(coil_idxs):\n",
    "        ax = plt.subplot(1, len(coil_idxs), i + 1)\n",
    "        plt.title(f'coil {coil_idx}')\n",
    "        ax.imshow(kspace_slice[coil_idx], cmap=cmap)\n",
    "        plt.axis('off')  # Remove axes for a cleaner look\n",
    "    \n",
    "    plt.show()"
   ],
   "metadata": {
    "collapsed": false
   },
   "id": "1f60525b8f5d8f31",
   "execution_count": null
  },
  {
   "cell_type": "code",
   "outputs": [],
   "source": [
    "def show_image_slice(img_path, slice_idx=0, cmap='gray'):\n",
    "    img_keys = ['image_grappa', 'image_input', 'image_label']\n",
    "    img_title = img_path.split('/')[-1]\n",
    "    \n",
    "    hf = h5py.File(img_path)\n",
    "    plt.figure()\n",
    "    plt.suptitle(f'{img_title} - slice {slice_idx}')\n",
    "    for j, key in enumerate(img_keys):\n",
    "        ax = plt.subplot(1, len(img_keys), j + 1)\n",
    "        img_slice = hf[key][slice_idx]\n",
    "        plt.title(key)\n",
    "        ax.imshow(img_slice, cmap=cmap)\n",
    "        plt.axis('off')  # Remove axes for a cleaner look\n",
    "    \n",
    "    plt.show()"
   ],
   "metadata": {
    "collapsed": false
   },
   "id": "3fbcc69f37300e4b",
   "execution_count": null
  },
  {
   "cell_type": "code",
   "outputs": [],
   "source": [
    "def get_masked_kspace_with_1d_mask(kspace, mask):\n",
    "    \n",
    "    mask = np.tile(mask, (mask.shape[0], 1))"
   ],
   "metadata": {
    "collapsed": false
   },
   "id": "5b5bac134f166279",
   "execution_count": null
  },
  {
   "cell_type": "code",
   "outputs": [],
   "source": [
    "plt.figure(figsize=(15, 16))\n",
    "for i in range(1, 4):\n",
    "    img_path = f'{data_dir_path}/train/image/brain_acc4_{i}.h5'\n",
    "    show_image_slice(img_path)\n",
    "    \n",
    "    kspace_path = f'{data_dir_path}/train/kspace/brain_acc4_{i}.h5'\n",
    "    show_kspace_slice(kspace_path)"
   ],
   "metadata": {
    "collapsed": false
   },
   "id": "383a20c6ee88b04c",
   "execution_count": null
  },
  {
   "cell_type": "code",
   "outputs": [],
   "source": [
    "def show_image_slices(img_path, model_name: str = \"\", is_recon = True, slice_idxs=[0], cmap='gray'):\n",
    "    img_title = img_path.split('/')[-1]\n",
    "    fig_img = plt.figure(figsize=(16, 6))\n",
    "    gs = gridspec.GridSpec(nrows=1, ncols=len(slice_idxs))\n",
    "    \n",
    "    fig_img.suptitle(f'[{model_name}] {img_title}')\n",
    "    for i, slice_idx in enumerate(slice_idxs):\n",
    "        with h5py.File(img_path, 'r') as hf:\n",
    "            img_slice = hf['reconstruction' if is_recon else 'image_label'][slice_idx]\n",
    "            ax = fig_img.add_subplot(gs[0, i])\n",
    "            ax.imshow(img_slice, cmap=cmap)\n",
    "            ax.title.set_text(f'slice {slice_idx}')\n",
    "            ax.axis('off')  # Remove axes for a cleaner look\n",
    "    \n",
    "    fig_img.tight_layout()\n",
    "    plt.show()\n",
    "    plt.close(fig_img)"
   ],
   "metadata": {
    "collapsed": false
   },
   "id": "bcc8ca72392554ef",
   "execution_count": null
  },
  {
   "cell_type": "code",
   "outputs": [],
   "source": [
    "for i in range(1, 4):\n",
    "    img_path = f'{data_dir_path}/leaderboard/acc5/image/brain_test{i}.h5'\n",
    "    show_image_slices(img_path, model_name=\"ground_truth\", slice_idxs=list(range(3)), is_recon=False)"
   ],
   "metadata": {
    "collapsed": false
   },
   "id": "382694eb558f7ba2",
   "execution_count": null
  },
  {
   "cell_type": "code",
   "outputs": [],
   "source": [
    "for i in range(1, 4):\n",
    "    img_path = f'{result_dir_path}/test_Varnet/reconstructions_leaderboard(baseline_15epoch)/public/brain_test{i}.h5'\n",
    "    show_image_slices(img_path, model_name='baseline_15epoch', slice_idxs=list(range(3)))\n",
    "    \n",
    "    img_path = f'{result_dir_path}/test_Varnet/reconstructions_leaderboard(baseline_24epoch)/public/brain_test{i}.h5'\n",
    "    show_image_slices(img_path, model_name='baseline_24epoch', slice_idxs=list(range(3)))"
   ],
   "metadata": {
    "collapsed": false
   },
   "id": "5768742ae652e022",
   "execution_count": null
  },
  {
   "cell_type": "code",
   "outputs": [],
   "source": [
    "def compare_image_slice(img_paths=None, model_names=None, slice_idx=0, cmap='gray'):\n",
    "    if img_paths is None:\n",
    "        img_paths = []\n",
    "    if len(img_paths) < 1:\n",
    "        return\n",
    "    \n",
    "    img_title = img_paths[0].split('/')[-1]\n",
    "    fig_img = plt.figure(figsize=(16, 6))\n",
    "    gs = gridspec.GridSpec(nrows=1, ncols=len(img_paths))\n",
    "    \n",
    "    fig_img.suptitle(f'{img_title}')\n",
    "    for idx, path in enumerate(img_paths):\n",
    "        with h5py.File(path, 'r') as hf:\n",
    "            is_recon = path.split('/')[-2] != 'image'\n",
    "            img_slice = hf['reconstruction' if is_recon else 'image_label'][slice_idx]\n",
    "            ax = fig_img.add_subplot(gs[0, idx])\n",
    "            ax.imshow(img_slice, cmap=cmap)\n",
    "            ax.title.set_text(f'{model_names[idx]}')\n",
    "            ax.axis('off')  # Remove axes for a cleaner look\n",
    "    \n",
    "    fig_img.tight_layout()\n",
    "    plt.show()\n",
    "    plt.close(fig_img)"
   ],
   "metadata": {
    "collapsed": false
   },
   "id": "b127255c7d7cde4b",
   "execution_count": null
  },
  {
   "cell_type": "code",
   "outputs": [],
   "source": [
    "img_paths = [f'{result_dir_path}/test_Varnet/reconstructions_leaderboard(baseline_15epoch)/public/brain_test1.h5',\n",
    "             f'{result_dir_path}/test_Varnet/reconstructions_leaderboard(baseline_38epoch)/public/brain_test1.h5',\n",
    "             f'{data_dir_path}/leaderboard/acc5/image/brain_test1.h5']\n",
    "model_names = ['baseline_15epoch', 'baseline_38epoch', 'ground_truth']\n",
    "compare_image_slice(img_paths, model_names)"
   ],
   "metadata": {
    "collapsed": false
   },
   "id": "d1a86b61c749648",
   "execution_count": null
  }
 ],
 "metadata": {
  "kernelspec": {
   "display_name": "Python 3",
   "language": "python",
   "name": "python3"
  },
  "language_info": {
   "codemirror_mode": {
    "name": "ipython",
    "version": 2
   },
   "file_extension": ".py",
   "mimetype": "text/x-python",
   "name": "python",
   "nbconvert_exporter": "python",
   "pygments_lexer": "ipython2",
   "version": "2.7.6"
  }
 },
 "nbformat": 4,
 "nbformat_minor": 5
}
