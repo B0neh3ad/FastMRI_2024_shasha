{
 "cells": [
  {
   "cell_type": "code",
   "outputs": [],
   "source": [
    "%pip install matplotlib ipywidgets"
   ],
   "metadata": {
    "collapsed": false
   },
   "id": "4e518f692c42fd0b"
  },
  {
   "cell_type": "code",
   "outputs": [],
   "source": [
    "import os\n",
    "from dotenv import load_dotenv\n",
    "import h5py\n",
    "import numpy as np\n",
    "from matplotlib import pyplot as plt, gridspec\n",
    "import matplotlib.pyplot as plt\n",
    "import seaborn as sns\n",
    "import ipywidgets as widgets\n",
    "from IPython.display import display\n",
    "\n",
    "load_dotenv()\n",
    "data_dir_path = os.environ['DATA_DIR_PATH']\n",
    "result_dir_path = os.environ['RESULT_DIR_PATH']"
   ],
   "metadata": {
    "collapsed": false
   },
   "id": "6a99bdf3918ad981"
  },
  {
   "cell_type": "markdown",
   "source": [
    "## Recon Visualization"
   ],
   "metadata": {
    "collapsed": false
   },
   "id": "cf3fdede1279042b"
  },
  {
   "cell_type": "code",
   "outputs": [],
   "source": [
    "def show_image_with_recon(img_name, slice_idx=0, cmap='gray'):\n",
    "    img_path = f'{data_dir_path}/leaderboard/acc5/image/{img_name}'\n",
    "    public_recon_path = f'{result_dir_path}/test_Varnet/reconstructions_leaderboard/public/{img_name}'\n",
    "    private_recon_path = f'{result_dir_path}/test_Varnet/reconstructions_leaderboard/private/{img_name}'\n",
    "\n",
    "    img_keys = ['image_label']\n",
    "    recon_key = 'reconstruction'\n",
    "    img_title = img_path.split('/')[-1]\n",
    "    \n",
    "    # show image\n",
    "    hf = h5py.File(img_path)\n",
    "    plt.figure(figsize=(15, 6))\n",
    "    plt.suptitle(f'{img_title} - slice {slice_idx}')\n",
    "    for j, key in enumerate(img_keys):\n",
    "        ax = plt.subplot(1, len(img_keys) + 2, j + 1)\n",
    "        img_slice = hf[key][slice_idx]\n",
    "        plt.title(key)\n",
    "        ax.imshow(img_slice, cmap=cmap)\n",
    "        plt.axis('off')  # Remove axes for a cleaner look\n",
    "    \n",
    "    # show recon\n",
    "    hf = h5py.File(public_recon_path, 'r')\n",
    "    ax = plt.subplot(1, len(img_keys) + 2, len(img_keys) + 1)\n",
    "    recon_slice = hf[recon_key][slice_idx]\n",
    "    plt.title('public')\n",
    "    ax.imshow(recon_slice, cmap=cmap)\n",
    "    plt.axis('off')\n",
    "    \n",
    "    # show recon\n",
    "    hf = h5py.File(private_recon_path, 'r')\n",
    "    ax = plt.subplot(1, len(img_keys) + 2, len(img_keys) + 2)\n",
    "    recon_slice = hf[recon_key][slice_idx]\n",
    "    plt.title('private')\n",
    "    ax.imshow(recon_slice, cmap=cmap)\n",
    "    plt.axis('off')\n",
    "    \n",
    "    plt.show()"
   ],
   "metadata": {
    "collapsed": false
   },
   "id": "1da475d657c93311"
  },
  {
   "cell_type": "code",
   "outputs": [],
   "source": [
    "show_image_with_recon('brain_test5.h5')"
   ],
   "metadata": {
    "collapsed": false
   },
   "id": "6636bede35ee4695"
  },
  {
   "cell_type": "code",
   "outputs": [],
   "source": [
    "show_image_with_recon('brain_test20.h5')"
   ],
   "metadata": {
    "collapsed": false
   },
   "id": "d597bb2a729f5c1e"
  },
  {
   "cell_type": "code",
   "outputs": [],
   "source": [
    "show_image_with_recon('brain_test33.h5')"
   ],
   "metadata": {
    "collapsed": false
   },
   "id": "b16b0657b6b5c5fc"
  },
  {
   "cell_type": "markdown",
   "source": [
    "## Error Map"
   ],
   "metadata": {
    "collapsed": false
   },
   "id": "7b6c7f68dcb81109"
  },
  {
   "cell_type": "code",
   "outputs": [],
   "source": [
    "import torch\n",
    "from leaderboard_eval import SSIM\n",
    "from skimage.metrics import structural_similarity as ssim\n",
    "import cv2\n",
    "\n",
    "ssim_calc = SSIM()\n",
    "\n",
    "def show_error_map(img_name, slice_idx=0, cmap=None, show=False):\n",
    "    img_path = f'{data_dir_path}/leaderboard/acc5/image/{img_name}'\n",
    "    public_recon_path = f'{result_dir_path}/test_Varnet/reconstructions_leaderboard/public/{img_name}'\n",
    "    private_recon_path = f'{result_dir_path}/test_Varnet/reconstructions_leaderboard/private/{img_name}'\n",
    "    \n",
    "    label_key = 'image_label'\n",
    "    recon_key = 'reconstruction'\n",
    "    img_title = img_path.split('/')[-1]\n",
    "    \n",
    "    # fetch label\n",
    "    hf = h5py.File(img_path)\n",
    "    if len(hf[label_key]) <= slice_idx:\n",
    "        return (None, None)\n",
    "\n",
    "    label_slice = hf[label_key][slice_idx]\n",
    "    maximum = hf.attrs['max']\n",
    "    \n",
    "    # get mask\n",
    "    mask = np.zeros(label_slice.shape)\n",
    "    mask[label_slice > 5e-5] = 1\n",
    "    kernel = np.ones((3, 3), np.uint8)\n",
    "    mask = cv2.erode(mask, kernel, iterations=1)\n",
    "    mask = cv2.dilate(mask, kernel, iterations=15)\n",
    "    mask = cv2.erode(mask, kernel, iterations=14)\n",
    "    \n",
    "    # fetch public recon\n",
    "    hf = h5py.File(public_recon_path)\n",
    "    public_recon_slice = hf[recon_key][slice_idx]\n",
    "    \n",
    "    # fetch private recon\n",
    "    hf = h5py.File(private_recon_path)\n",
    "    private_recon_slice = hf[recon_key][slice_idx]\n",
    "    \n",
    "    # apply mask\n",
    "    label_slice = label_slice * mask\n",
    "    public_recon_slice = public_recon_slice * mask\n",
    "    private_recon_slice = private_recon_slice * mask\n",
    "\n",
    "    (public_ssim_score, public_error_slice) = ssim(label_slice, public_recon_slice, data_range=maximum, full=True)\n",
    "    (private_ssim_score, private_error_slice) = ssim(label_slice, private_recon_slice, data_range=maximum, full=True)\n",
    "    \n",
    "    if show:\n",
    "        fig = plt.figure(figsize=(15, 6))\n",
    "        plt.suptitle(f'{img_title} - slice {slice_idx}')\n",
    "        \n",
    "        ax = plt.subplot(1, 2, 1)\n",
    "        plt.title(f'public (SSIM: {public_ssim_score:.4f})')\n",
    "        img1 = ax.imshow(public_error_slice, cmap=cmap, vmin=0.0, vmax=1)\n",
    "        plt.axis('off')\n",
    "        plt.colorbar(img1, ax=ax)\n",
    "        \n",
    "        ax = plt.subplot(1, 2, 2)\n",
    "        plt.title(f'private (SSIM: {private_ssim_score:.4f})')\n",
    "        img2 = ax.imshow(private_error_slice, cmap=cmap, vmin=0.0, vmax=1)\n",
    "        plt.axis('off')\n",
    "        plt.colorbar(img2, ax=ax)\n",
    "    \n",
    "    return (public_ssim_score, private_ssim_score)"
   ],
   "metadata": {
    "collapsed": false
   },
   "id": "58c19e6a49eb3775"
  },
  {
   "cell_type": "code",
   "outputs": [],
   "source": [
    "show_error_map(f'brain_test32.h5', show=True)"
   ],
   "metadata": {
    "collapsed": false
   },
   "id": "adbd5cfe0e947b72"
  },
  {
   "cell_type": "code",
   "outputs": [],
   "source": [
    "ssim_df = []\n",
    "for slice_idx in range(1, 23):\n",
    "    public_ssim_list = []\n",
    "    private_ssim_list = []\n",
    "    for i in range(1, 59):\n",
    "        public_ssim, private_ssim = show_error_map(f'brain_test{i}.h5', slice_idx=slice_idx)\n",
    "        public_ssim_list.append(public_ssim)\n",
    "        private_ssim_list.append(private_ssim)\n",
    "    ssim_df.append([public_ssim_list, private_ssim_list])"
   ],
   "metadata": {
    "collapsed": false
   },
   "id": "400a7d2e530dddd6"
  },
  {
   "cell_type": "code",
   "outputs": [],
   "source": [
    "high=[1, 2, 3, 4, 5, 6, 7, 8, 9, 10, 11, 12, 13, 14, 15, 16, 28, 29]\n",
    "middle=[30, 31, 32, 33, 34, 35, 36, 37, 38, 39, 40, 41, 42, 43, 44, 45, 46, 47, 48, 49, 50, 51, 52, 53, 54, 55, 56, 57, 58]\n",
    "low=[17, 18, 19, 29, 21, 23, 24, 25, 26, 27]"
   ],
   "metadata": {
    "collapsed": false
   },
   "id": "412caf1b2c3f325"
  },
  {
   "cell_type": "code",
   "outputs": [],
   "source": [
    "def plot_histogram(slice_idx=0):\n",
    "    high_public = [ssim_df[slice_idx][0][i-1] for i in high]\n",
    "    middle_public = [ssim_df[slice_idx][0][i-1] for i in middle]\n",
    "    low_public = [ssim_df[slice_idx][0][i-1] for i in low]\n",
    "\n",
    "    fig, axes = plt.subplots(1, 2, figsize=(10, 6))\n",
    "    fig.suptitle(\"Distribution of SSIM score according to sliced position\")\n",
    "\n",
    "    sns.histplot(ax=axes[0], data=high_public, label=\"high(brain)\", binrange=(0.95, 1.0))\n",
    "    sns.histplot(ax=axes[0], data=middle_public, label=\"middle(eyes)\", binrange=(0.95, 1.0))\n",
    "    sns.histplot(ax=axes[0], data=low_public, label=\"low(lower part of face)\", binrange=(0.95, 1.0))\n",
    "\n",
    "    axes[0].set_title(\"Public(acc5)\")\n",
    "    axes[0].legend()\n",
    "\n",
    "    high_private = [ssim_df[slice_idx][1][i-1] for i in high]\n",
    "    middle_private = [ssim_df[slice_idx][1][i-1] for i in middle]\n",
    "    low_private = [ssim_df[slice_idx][1][i-1] for i in low]\n",
    "\n",
    "    sns.histplot(ax=axes[1], data=high_private, label=\"high(brain)\", binrange=(0.90, 1.0))\n",
    "    sns.histplot(ax=axes[1], data=middle_private, label=\"middle(eyes)\", binrange=(0.90, 1.0))\n",
    "    sns.histplot(ax=axes[1], data=low_private, label=\"low(lower part of face)\", binrange=(0.90, 1.0))\n",
    "\n",
    "    axes[1].set_title(\"Private(acc9)\")\n",
    "    axes[1].legend()"
   ],
   "metadata": {
    "collapsed": false
   },
   "id": "82c444c14eb2d943"
  },
  {
   "cell_type": "code",
   "outputs": [],
   "source": [
    "slice_idx_slider = widgets.IntSlider(value=0, min=0, max=21, step=1, description='slice_idx')\n",
    "widgets.interactive(plot_histogram, slice_idx=slice_idx_slider)"
   ],
   "metadata": {
    "collapsed": false
   },
   "id": "6547784ad5b4af54"
  },
  {
   "cell_type": "code",
   "outputs": [],
   "source": [
    "display(slice_idx_slider)"
   ],
   "metadata": {
    "collapsed": false
   },
   "id": "27405558e1b6e3e6"
  },
  {
   "cell_type": "code",
   "outputs": [],
   "source": [
    "np.average(public_ssim_list)"
   ],
   "metadata": {
    "collapsed": false
   },
   "id": "95ba3f52b825b985"
  },
  {
   "cell_type": "code",
   "outputs": [],
   "source": [
    "np.average(private_ssim_list)"
   ],
   "metadata": {
    "collapsed": false
   },
   "id": "f0e1ab836196ca41"
  },
  {
   "cell_type": "code",
   "outputs": [],
   "source": [
    "from ipywidgets import interact\n",
    "\n",
    "def f(x):\n",
    "    return x"
   ],
   "metadata": {
    "collapsed": false
   },
   "id": "4632bf4a289ae9d7"
  },
  {
   "cell_type": "code",
   "outputs": [],
   "source": [
    "interact(f, x=10)"
   ],
   "metadata": {
    "collapsed": false
   },
   "id": "1ba7f3116101ddc"
  }
 ],
 "metadata": {
  "kernelspec": {
   "display_name": "Python 3 (ipykernel)",
   "language": "python",
   "name": "python3"
  },
  "language_info": {
   "codemirror_mode": {
    "name": "ipython",
    "version": 3
   },
   "file_extension": ".py",
   "mimetype": "text/x-python",
   "name": "python",
   "nbconvert_exporter": "python",
   "pygments_lexer": "ipython3",
   "version": "3.8.10"
  }
 },
 "nbformat": 4,
 "nbformat_minor": 5
}
